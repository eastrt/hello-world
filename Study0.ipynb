{
  "nbformat": 4,
  "nbformat_minor": 0,
  "metadata": {
    "colab": {
      "name": "Study0.ipynb",
      "provenance": [],
      "private_outputs": true,
      "authorship_tag": "ABX9TyMzeveKNi6k1KzmLgHmn8XL",
      "include_colab_link": true
    },
    "kernelspec": {
      "name": "python3",
      "display_name": "Python 3"
    }
  },
  "cells": [
    {
      "cell_type": "markdown",
      "metadata": {
        "id": "view-in-github",
        "colab_type": "text"
      },
      "source": [
        "<a href=\"https://colab.research.google.com/github/eastrt/hello-world/blob/master/Study0.ipynb\" target=\"_parent\"><img src=\"https://colab.research.google.com/assets/colab-badge.svg\" alt=\"Open In Colab\"/></a>"
      ]
    },
    {
      "cell_type": "code",
      "metadata": {
        "id": "lP9OEUZcXmMy"
      },
      "source": [
        "class b():\n",
        "  def __init__(self,row,col):\n",
        "    self.pieces = [None]*row\n",
        "    for i in range(len(self.pieces)):\n",
        "      self.pieces[i] = [0]*col\n",
        "\n",
        "  def pmoves(self,n):\n",
        "    moves = set()\n",
        "\n",
        "    for row in range(len(self.pieces)):\n",
        "      for col in range(len(self.pieces[0])):\n",
        "       \n",
        "        moves.add((row,col))\n",
        "        \n",
        "    return moves\n",
        "  \n",
        "bb = b(4,3)\n",
        "c =bb.pmoves(3)\n",
        "print('\\n',c)\n",
        "  \n",
        "\n",
        "\n"
      ],
      "execution_count": null,
      "outputs": []
    }
  ]
}