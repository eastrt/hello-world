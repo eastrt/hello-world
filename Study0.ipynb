{
  "nbformat": 4,
  "nbformat_minor": 0,
  "metadata": {
    "colab": {
      "name": "Study0.ipynb",
      "provenance": [],
      "private_outputs": true,
      "authorship_tag": "ABX9TyNUTA4vF8ie3/afMsrfwOSa",
      "include_colab_link": true
    },
    "kernelspec": {
      "name": "python3",
      "display_name": "Python 3"
    }
  },
  "cells": [
    {
      "cell_type": "markdown",
      "metadata": {
        "id": "view-in-github",
        "colab_type": "text"
      },
      "source": [
        "<a href=\"https://colab.research.google.com/github/eastrt/hello-world/blob/master/Study0.ipynb\" target=\"_parent\"><img src=\"https://colab.research.google.com/assets/colab-badge.svg\" alt=\"Open In Colab\"/></a>"
      ]
    },
    {
      "cell_type": "code",
      "metadata": {
        "id": "lP9OEUZcXmMy"
      },
      "source": [
        "class b():\n",
        "  def __init__(self,row,col):\n",
        "    self.pieces[i] = [None]*row\n",
        "    for i in range(len(self.pieces)):\n",
        "      self.pieces[i] = [0]*col\n",
        "\n",
        "  \n",
        "\n",
        "\n"
      ],
      "execution_count": null,
      "outputs": []
    }
  ]
}